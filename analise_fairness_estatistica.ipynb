{
 "cells": [
  {
   "cell_type": "markdown",
   "metadata": {},
   "source": [
    "## With augmentation"
   ]
  },
  {
   "cell_type": "code",
   "execution_count": 1,
   "metadata": {},
   "outputs": [],
   "source": [
    "import pandas as pd\n",
    "import seaborn as sns\n",
    "df = pd.read_csv('evaluation_results_augmented.csv')"
   ]
  },
  {
   "cell_type": "code",
   "execution_count": 84,
   "metadata": {},
   "outputs": [],
   "source": [
    "gender = df[df['Category'] == 'Gender']\n",
    "age = df[df['Category'] == 'Age']"
   ]
  },
  {
   "cell_type": "code",
   "execution_count": 7,
   "metadata": {},
   "outputs": [],
   "source": [
    "gender9 = gender[gender['Iteration'] == 9]\n",
    "age9 = age[age['Iteration'] == 9]"
   ]
  },
  {
   "cell_type": "code",
   "execution_count": 10,
   "metadata": {},
   "outputs": [],
   "source": [
    "gender90 = gender9[gender9['Group'] != 0]\n",
    "age90 = age9[age9['Group'] != 0]"
   ]
  },
  {
   "cell_type": "code",
   "execution_count": 15,
   "metadata": {},
   "outputs": [],
   "source": [
    "from scipy.stats import chi2_contingency\n",
    "from scipy.stats.contingency import odds_ratio\n",
    "import numpy as np"
   ]
  },
  {
   "cell_type": "code",
   "execution_count": 13,
   "metadata": {},
   "outputs": [
    {
     "data": {
      "text/html": [
       "<div>\n",
       "<style scoped>\n",
       "    .dataframe tbody tr th:only-of-type {\n",
       "        vertical-align: middle;\n",
       "    }\n",
       "\n",
       "    .dataframe tbody tr th {\n",
       "        vertical-align: top;\n",
       "    }\n",
       "\n",
       "    .dataframe thead th {\n",
       "        text-align: right;\n",
       "    }\n",
       "</style>\n",
       "<table border=\"1\" class=\"dataframe\">\n",
       "  <thead>\n",
       "    <tr style=\"text-align: right;\">\n",
       "      <th></th>\n",
       "      <th>Iteration</th>\n",
       "      <th>Category</th>\n",
       "      <th>Group</th>\n",
       "      <th>Correct Predictions</th>\n",
       "      <th>Incorrect Predictions</th>\n",
       "    </tr>\n",
       "  </thead>\n",
       "  <tbody>\n",
       "    <tr>\n",
       "      <th>68</th>\n",
       "      <td>9</td>\n",
       "      <td>Gender</td>\n",
       "      <td>1</td>\n",
       "      <td>775</td>\n",
       "      <td>658</td>\n",
       "    </tr>\n",
       "    <tr>\n",
       "      <th>69</th>\n",
       "      <td>9</td>\n",
       "      <td>Gender</td>\n",
       "      <td>2</td>\n",
       "      <td>493</td>\n",
       "      <td>616</td>\n",
       "    </tr>\n",
       "  </tbody>\n",
       "</table>\n",
       "</div>"
      ],
      "text/plain": [
       "    Iteration Category  Group  Correct Predictions  Incorrect Predictions\n",
       "68          9   Gender      1                  775                    658\n",
       "69          9   Gender      2                  493                    616"
      ]
     },
     "execution_count": 13,
     "metadata": {},
     "output_type": "execute_result"
    }
   ],
   "source": [
    "gender90"
   ]
  },
  {
   "cell_type": "code",
   "execution_count": 41,
   "metadata": {},
   "outputs": [
    {
     "name": "stdout",
     "output_type": "stream",
     "text": [
      "PVALUE: 1.8003194806460825e-06\n",
      "ODDS: 1.4714421754096974\n",
      "the odds of correct pred for the #1 is 1.4714421754096974 times that of those for the #2\n"
     ]
    }
   ],
   "source": [
    "## GENDER TESTS\n",
    "## corr  - gender 1 | gender 2\n",
    "## incorr- gender 1 | gender 2\n",
    "\n",
    "table = np.array([[gender90[gender90['Group'] == 1][\"Correct Predictions\"].iloc[0],\n",
    "                   gender90[gender90['Group'] == 2][\"Correct Predictions\"].iloc[0]], \n",
    "                   [gender90[gender90['Group'] == 1][\"Incorrect Predictions\"].iloc[0], \n",
    "                    gender90[gender90['Group'] == 2][\"Incorrect Predictions\"].iloc[0]]])\n",
    "\n",
    "res = chi2_contingency(table, correction=True)\n",
    "print(f\"PVALUE: {res.pvalue}\")\n",
    "\n",
    "res = odds_ratio(table)\n",
    "print(f\"ODDS: {res.statistic}\")\n",
    "print(f\"the odds of correct pred for the #1 is {res.statistic} times that of those for the #2\")"
   ]
  },
  {
   "cell_type": "code",
   "execution_count": 12,
   "metadata": {},
   "outputs": [
    {
     "data": {
      "text/html": [
       "<div>\n",
       "<style scoped>\n",
       "    .dataframe tbody tr th:only-of-type {\n",
       "        vertical-align: middle;\n",
       "    }\n",
       "\n",
       "    .dataframe tbody tr th {\n",
       "        vertical-align: top;\n",
       "    }\n",
       "\n",
       "    .dataframe thead th {\n",
       "        text-align: right;\n",
       "    }\n",
       "</style>\n",
       "<table border=\"1\" class=\"dataframe\">\n",
       "  <thead>\n",
       "    <tr style=\"text-align: right;\">\n",
       "      <th></th>\n",
       "      <th>Iteration</th>\n",
       "      <th>Category</th>\n",
       "      <th>Group</th>\n",
       "      <th>Correct Predictions</th>\n",
       "      <th>Incorrect Predictions</th>\n",
       "    </tr>\n",
       "  </thead>\n",
       "  <tbody>\n",
       "    <tr>\n",
       "      <th>37</th>\n",
       "      <td>9</td>\n",
       "      <td>Age</td>\n",
       "      <td>1</td>\n",
       "      <td>83</td>\n",
       "      <td>100</td>\n",
       "    </tr>\n",
       "    <tr>\n",
       "      <th>38</th>\n",
       "      <td>9</td>\n",
       "      <td>Age</td>\n",
       "      <td>2</td>\n",
       "      <td>1073</td>\n",
       "      <td>998</td>\n",
       "    </tr>\n",
       "    <tr>\n",
       "      <th>39</th>\n",
       "      <td>9</td>\n",
       "      <td>Age</td>\n",
       "      <td>3</td>\n",
       "      <td>112</td>\n",
       "      <td>176</td>\n",
       "    </tr>\n",
       "  </tbody>\n",
       "</table>\n",
       "</div>"
      ],
      "text/plain": [
       "    Iteration Category  Group  Correct Predictions  Incorrect Predictions\n",
       "37          9      Age      1                   83                    100\n",
       "38          9      Age      2                 1073                    998\n",
       "39          9      Age      3                  112                    176"
      ]
     },
     "execution_count": 12,
     "metadata": {},
     "output_type": "execute_result"
    }
   ],
   "source": [
    "age90"
   ]
  },
  {
   "cell_type": "code",
   "execution_count": 40,
   "metadata": {},
   "outputs": [
    {
     "name": "stdout",
     "output_type": "stream",
     "text": [
      "PVALUE: 0.11013574027939003\n",
      "ODDS: 0.7720737017266689\n",
      "the odds of correct pred for the #1 is 0.7720737017266689 times that of those for the #2\n"
     ]
    }
   ],
   "source": [
    "## AGE TESTS\n",
    "## corr  - AGE 1 | AGE 2\n",
    "## incorr- AGE 1 | AGE 2\n",
    "\n",
    "table = np.array([[age90[age90['Group'] == 1][\"Correct Predictions\"].iloc[0],\n",
    "                   age90[age90['Group'] == 2][\"Correct Predictions\"].iloc[0]], \n",
    "                   [age90[age90['Group'] == 1][\"Incorrect Predictions\"].iloc[0], \n",
    "                    age90[age90['Group'] == 2][\"Incorrect Predictions\"].iloc[0]]])\n",
    "\n",
    "res = chi2_contingency(table, correction=True)\n",
    "print(f\"PVALUE: {res.pvalue}\")\n",
    "\n",
    "res = odds_ratio(table)\n",
    "print(f\"ODDS: {res.statistic}\")\n",
    "print(f\"the odds of correct pred for the #1 is {res.statistic} times that of those for the #2\")"
   ]
  },
  {
   "cell_type": "code",
   "execution_count": 42,
   "metadata": {},
   "outputs": [
    {
     "name": "stdout",
     "output_type": "stream",
     "text": [
      "PVALUE: 0.1960935196414334\n",
      "ODDS: 1.303544799718746\n",
      "the odds of correct pred for the #1 is 1.303544799718746 times that of those for the #3\n"
     ]
    }
   ],
   "source": [
    "## AGE TESTS\n",
    "## corr  - AGE 1 | AGE 3\n",
    "## incorr- AGE 1 | AGE 3\n",
    "\n",
    "table = np.array([[age90[age90['Group'] == 1][\"Correct Predictions\"].iloc[0],\n",
    "                   age90[age90['Group'] == 3][\"Correct Predictions\"].iloc[0]], \n",
    "                   [age90[age90['Group'] == 1][\"Incorrect Predictions\"].iloc[0], \n",
    "                    age90[age90['Group'] == 3][\"Incorrect Predictions\"].iloc[0]]])\n",
    "\n",
    "res = chi2_contingency(table, correction=True)\n",
    "print(f\"PVALUE: {res.pvalue}\")\n",
    "\n",
    "res = odds_ratio(table)\n",
    "print(f\"ODDS: {res.statistic}\")\n",
    "print(f\"the odds of correct pred for the #1 is {res.statistic} times that of those for the #3\")"
   ]
  },
  {
   "cell_type": "code",
   "execution_count": 43,
   "metadata": {},
   "outputs": [
    {
     "name": "stdout",
     "output_type": "stream",
     "text": [
      "PVALUE: 5.1981331438685886e-05\n",
      "ODDS: 1.689149084939192\n",
      "the odds of correct pred for the #2 is 1.689149084939192 times that of those for the #3\n"
     ]
    }
   ],
   "source": [
    "## AGE TESTS\n",
    "## corr  - AGE 2 | AGE 3\n",
    "## incorr- AGE 2 | AGE 3\n",
    "\n",
    "table = np.array([[age90[age90['Group'] == 2][\"Correct Predictions\"].iloc[0],\n",
    "                   age90[age90['Group'] == 3][\"Correct Predictions\"].iloc[0]], \n",
    "                   [age90[age90['Group'] == 2][\"Incorrect Predictions\"].iloc[0], \n",
    "                    age90[age90['Group'] == 3][\"Incorrect Predictions\"].iloc[0]]])\n",
    "\n",
    "res = chi2_contingency(table, correction=True)\n",
    "print(f\"PVALUE: {res.pvalue}\")\n",
    "\n",
    "res = odds_ratio(table)\n",
    "print(f\"ODDS: {res.statistic}\")\n",
    "print(f\"the odds of correct pred for the #2 is {res.statistic} times that of those for the #3\")"
   ]
  },
  {
   "cell_type": "markdown",
   "metadata": {},
   "source": [
    "## No augmentation"
   ]
  },
  {
   "cell_type": "code",
   "execution_count": 86,
   "metadata": {},
   "outputs": [],
   "source": [
    "import pandas as pd\n",
    "import seaborn as sns\n",
    "df = pd.read_csv('evaluation_results_normal_reduced.csv')"
   ]
  },
  {
   "cell_type": "code",
   "execution_count": 87,
   "metadata": {},
   "outputs": [],
   "source": [
    "gender = df[df['Category'] == 'Gender']\n",
    "age = df[df['Category'] == 'Age']"
   ]
  },
  {
   "cell_type": "code",
   "execution_count": 88,
   "metadata": {},
   "outputs": [],
   "source": [
    "gender9 = gender[gender['Iteration'] == 9]\n",
    "age9 = age[age['Iteration'] == 9]"
   ]
  },
  {
   "cell_type": "code",
   "execution_count": 89,
   "metadata": {},
   "outputs": [],
   "source": [
    "gender90 = gender9[gender9['Group'] != 0]\n",
    "age90 = age9[age9['Group'] != 0]"
   ]
  },
  {
   "cell_type": "code",
   "execution_count": 90,
   "metadata": {},
   "outputs": [],
   "source": [
    "from scipy.stats import chi2_contingency\n",
    "from scipy.stats.contingency import odds_ratio\n",
    "import numpy as np"
   ]
  },
  {
   "cell_type": "code",
   "execution_count": 91,
   "metadata": {},
   "outputs": [
    {
     "data": {
      "text/html": [
       "<div>\n",
       "<style scoped>\n",
       "    .dataframe tbody tr th:only-of-type {\n",
       "        vertical-align: middle;\n",
       "    }\n",
       "\n",
       "    .dataframe tbody tr th {\n",
       "        vertical-align: top;\n",
       "    }\n",
       "\n",
       "    .dataframe thead th {\n",
       "        text-align: right;\n",
       "    }\n",
       "</style>\n",
       "<table border=\"1\" class=\"dataframe\">\n",
       "  <thead>\n",
       "    <tr style=\"text-align: right;\">\n",
       "      <th></th>\n",
       "      <th>Iteration</th>\n",
       "      <th>Category</th>\n",
       "      <th>Group</th>\n",
       "      <th>Correct Predictions</th>\n",
       "      <th>Incorrect Predictions</th>\n",
       "    </tr>\n",
       "  </thead>\n",
       "  <tbody>\n",
       "    <tr>\n",
       "      <th>68</th>\n",
       "      <td>9</td>\n",
       "      <td>Gender</td>\n",
       "      <td>1</td>\n",
       "      <td>1080</td>\n",
       "      <td>366</td>\n",
       "    </tr>\n",
       "    <tr>\n",
       "      <th>69</th>\n",
       "      <td>9</td>\n",
       "      <td>Gender</td>\n",
       "      <td>2</td>\n",
       "      <td>761</td>\n",
       "      <td>324</td>\n",
       "    </tr>\n",
       "  </tbody>\n",
       "</table>\n",
       "</div>"
      ],
      "text/plain": [
       "    Iteration Category  Group  Correct Predictions  Incorrect Predictions\n",
       "68          9   Gender      1                 1080                    366\n",
       "69          9   Gender      2                  761                    324"
      ]
     },
     "execution_count": 91,
     "metadata": {},
     "output_type": "execute_result"
    }
   ],
   "source": [
    "gender90"
   ]
  },
  {
   "cell_type": "code",
   "execution_count": 92,
   "metadata": {},
   "outputs": [
    {
     "name": "stdout",
     "output_type": "stream",
     "text": [
      "PVALUE: 0.01244959637298769\n",
      "ODDS: 1.2562137594673777\n",
      "the odds of correct pred for the #1 is 1.2562137594673777 times that of those for the #2\n"
     ]
    }
   ],
   "source": [
    "## GENDER TESTS\n",
    "## corr  - gender 1 | gender 2\n",
    "## incorr- gender 1 | gender 2\n",
    "\n",
    "table = np.array([[gender90[gender90['Group'] == 1][\"Correct Predictions\"].iloc[0],\n",
    "                   gender90[gender90['Group'] == 2][\"Correct Predictions\"].iloc[0]], \n",
    "                   [gender90[gender90['Group'] == 1][\"Incorrect Predictions\"].iloc[0], \n",
    "                    gender90[gender90['Group'] == 2][\"Incorrect Predictions\"].iloc[0]]])\n",
    "\n",
    "res = chi2_contingency(table, correction=True)\n",
    "print(f\"PVALUE: {res.pvalue}\")\n",
    "\n",
    "res = odds_ratio(table)\n",
    "print(f\"ODDS: {res.statistic}\")\n",
    "print(f\"the odds of correct pred for the #1 is {res.statistic} times that of those for the #2\")"
   ]
  },
  {
   "cell_type": "code",
   "execution_count": 93,
   "metadata": {},
   "outputs": [
    {
     "data": {
      "text/html": [
       "<div>\n",
       "<style scoped>\n",
       "    .dataframe tbody tr th:only-of-type {\n",
       "        vertical-align: middle;\n",
       "    }\n",
       "\n",
       "    .dataframe tbody tr th {\n",
       "        vertical-align: top;\n",
       "    }\n",
       "\n",
       "    .dataframe thead th {\n",
       "        text-align: right;\n",
       "    }\n",
       "</style>\n",
       "<table border=\"1\" class=\"dataframe\">\n",
       "  <thead>\n",
       "    <tr style=\"text-align: right;\">\n",
       "      <th></th>\n",
       "      <th>Iteration</th>\n",
       "      <th>Category</th>\n",
       "      <th>Group</th>\n",
       "      <th>Correct Predictions</th>\n",
       "      <th>Incorrect Predictions</th>\n",
       "    </tr>\n",
       "  </thead>\n",
       "  <tbody>\n",
       "    <tr>\n",
       "      <th>37</th>\n",
       "      <td>9</td>\n",
       "      <td>Age</td>\n",
       "      <td>1</td>\n",
       "      <td>155</td>\n",
       "      <td>48</td>\n",
       "    </tr>\n",
       "    <tr>\n",
       "      <th>38</th>\n",
       "      <td>9</td>\n",
       "      <td>Age</td>\n",
       "      <td>2</td>\n",
       "      <td>1545</td>\n",
       "      <td>487</td>\n",
       "    </tr>\n",
       "    <tr>\n",
       "      <th>39</th>\n",
       "      <td>9</td>\n",
       "      <td>Age</td>\n",
       "      <td>3</td>\n",
       "      <td>141</td>\n",
       "      <td>155</td>\n",
       "    </tr>\n",
       "  </tbody>\n",
       "</table>\n",
       "</div>"
      ],
      "text/plain": [
       "    Iteration Category  Group  Correct Predictions  Incorrect Predictions\n",
       "37          9      Age      1                  155                     48\n",
       "38          9      Age      2                 1545                    487\n",
       "39          9      Age      3                  141                    155"
      ]
     },
     "execution_count": 93,
     "metadata": {},
     "output_type": "execute_result"
    }
   ],
   "source": [
    "age90"
   ]
  },
  {
   "cell_type": "code",
   "execution_count": 94,
   "metadata": {},
   "outputs": [
    {
     "name": "stdout",
     "output_type": "stream",
     "text": [
      "PVALUE: 0.9872218748343118\n",
      "ODDS: 1.0178587399929504\n",
      "the odds of correct pred for the #1 is 1.0178587399929504 times that of those for the #2\n"
     ]
    }
   ],
   "source": [
    "## AGE TESTS\n",
    "## corr  - AGE 1 | AGE 2\n",
    "## incorr- AGE 1 | AGE 2\n",
    "\n",
    "table = np.array([[age90[age90['Group'] == 1][\"Correct Predictions\"].iloc[0],\n",
    "                   age90[age90['Group'] == 2][\"Correct Predictions\"].iloc[0]], \n",
    "                   [age90[age90['Group'] == 1][\"Incorrect Predictions\"].iloc[0], \n",
    "                    age90[age90['Group'] == 2][\"Incorrect Predictions\"].iloc[0]]])\n",
    "\n",
    "res = chi2_contingency(table, correction=True)\n",
    "print(f\"PVALUE: {res.pvalue}\")\n",
    "\n",
    "res = odds_ratio(table)\n",
    "print(f\"ODDS: {res.statistic}\")\n",
    "print(f\"the odds of correct pred for the #1 is {res.statistic} times that of those for the #2\")"
   ]
  },
  {
   "cell_type": "code",
   "execution_count": 95,
   "metadata": {},
   "outputs": [
    {
     "name": "stdout",
     "output_type": "stream",
     "text": [
      "PVALUE: 2.5702166070720795e-10\n",
      "ODDS: 3.5405791046992907\n",
      "the odds of correct pred for the #1 is 3.5405791046992907 times that of those for the #3\n"
     ]
    }
   ],
   "source": [
    "## AGE TESTS\n",
    "## corr  - AGE 1 | AGE 3\n",
    "## incorr- AGE 1 | AGE 3\n",
    "\n",
    "table = np.array([[age90[age90['Group'] == 1][\"Correct Predictions\"].iloc[0],\n",
    "                   age90[age90['Group'] == 3][\"Correct Predictions\"].iloc[0]], \n",
    "                   [age90[age90['Group'] == 1][\"Incorrect Predictions\"].iloc[0], \n",
    "                    age90[age90['Group'] == 3][\"Incorrect Predictions\"].iloc[0]]])\n",
    "\n",
    "res = chi2_contingency(table, correction=True)\n",
    "print(f\"PVALUE: {res.pvalue}\")\n",
    "\n",
    "res = odds_ratio(table)\n",
    "print(f\"ODDS: {res.statistic}\")\n",
    "print(f\"the odds of correct pred for the #1 is {res.statistic} times that of those for the #3\")"
   ]
  },
  {
   "cell_type": "code",
   "execution_count": 96,
   "metadata": {},
   "outputs": [
    {
     "name": "stdout",
     "output_type": "stream",
     "text": [
      "PVALUE: 3.509601062105779e-24\n",
      "ODDS: 3.4852537494865627\n",
      "the odds of correct pred for the #2 is 3.4852537494865627 times that of those for the #3\n"
     ]
    }
   ],
   "source": [
    "## AGE TESTS\n",
    "## corr  - AGE 2 | AGE 3\n",
    "## incorr- AGE 2 | AGE 3\n",
    "\n",
    "table = np.array([[age90[age90['Group'] == 2][\"Correct Predictions\"].iloc[0],\n",
    "                   age90[age90['Group'] == 3][\"Correct Predictions\"].iloc[0]], \n",
    "                   [age90[age90['Group'] == 2][\"Incorrect Predictions\"].iloc[0], \n",
    "                    age90[age90['Group'] == 3][\"Incorrect Predictions\"].iloc[0]]])\n",
    "\n",
    "res = chi2_contingency(table, correction=True)\n",
    "print(f\"PVALUE: {res.pvalue}\")\n",
    "\n",
    "res = odds_ratio(table)\n",
    "print(f\"ODDS: {res.statistic}\")\n",
    "print(f\"the odds of correct pred for the #2 is {res.statistic} times that of those for the #3\")"
   ]
  }
 ],
 "metadata": {
  "kernelspec": {
   "display_name": "DL",
   "language": "python",
   "name": "python3"
  },
  "language_info": {
   "codemirror_mode": {
    "name": "ipython",
    "version": 3
   },
   "file_extension": ".py",
   "mimetype": "text/x-python",
   "name": "python",
   "nbconvert_exporter": "python",
   "pygments_lexer": "ipython3",
   "version": "3.12.5"
  }
 },
 "nbformat": 4,
 "nbformat_minor": 2
}
